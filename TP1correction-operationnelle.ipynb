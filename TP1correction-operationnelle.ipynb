{
 "cells": [
  {
   "cell_type": "markdown",
   "metadata": {},
   "source": [
    "   # TP Graphes : modéliser un labyrinthe\n",
    "   adaptation d'un TP publié sur : https://www.di.ens.fr/~mauborgn/td-99/programmation/tp8.html\n",
    "   "
   ]
  },
  {
   "cell_type": "markdown",
   "metadata": {},
   "source": [
    "Considérons le problème suivant :\n",
    "\n",
    "rechercher le chemin le plus long entre deux stations dans le métro. Indépendamment de l'aspect ludique, c'est en fait un problème difficile qu'on aurait bien du mal à résoudre de façon raisonnable sur un gros graphe comme celui du métro. \n",
    "Pour simplifier, nous allons donc considérer des labyrinthes.\n",
    "\n",
    "## Les labyrinthes\n",
    "\n",
    "Voici l'image d'un labyrinthe :\n",
    "<img src=\"https://www.di.ens.fr/~mauborgn/td-99/programmation/petitlab.gif\">"
   ]
  },
  {
   "cell_type": "markdown",
   "metadata": {},
   "source": [
    "Ce labyrinthe correspond au graphe suivant :\n",
    "<img src=\"https://www.di.ens.fr/~mauborgn/td-99/programmation/petit.gif\">\n",
    "\n",
    "Implémentez ce labyrinthe avec un graphe.\n",
    "Vous utiliserez l'implémentation de graphe fournie ci-dessous, vous nommerez les sommet (1,1) (1,2) .. etc \n",
    "\n",
    "Les arrêtes relient les cases voisines quand le passage est possible. Si une paroie empêche de passer on ne met pas l'arrête. Par exemple il n'y a pas d'arrête entre les sommets (1,1) et (1,2) mais il y en a une entre (1,1) et (2,1)."
   ]
  },
  {
   "cell_type": "code",
   "execution_count": 1,
   "metadata": {},
   "outputs": [
    {
     "name": "stdout",
     "output_type": "stream",
     "text": [
      "[(2, 1)]\n"
     ]
    }
   ],
   "source": [
    "class graph() :\n",
    "    def __init__(self) :\n",
    "        self.lstAdj={}\n",
    "    def __str__(self):\n",
    "        return str(self.lstAdj)\n",
    "    def addSommet(self,sommet):\n",
    "        self.lstAdj[sommet]=[]\n",
    "    def addArrete(self,sa,sb) :\n",
    "        self.lstAdj[sa].append(sb)\n",
    "        self.lstAdj[sb].append(sa)\n",
    "        \n",
    "labyrinthe=graph()\n",
    "for i in range(1,5):\n",
    "    for j in range(1,9):\n",
    "        labyrinthe.addSommet( (i,j) )\n",
    "labyrinthe.addArrete((1,1),(2,1))\n",
    "labyrinthe.addArrete((2,1),(2,2))\n",
    "labyrinthe.addArrete((2,2),(2,3))\n",
    "labyrinthe.addArrete((2,2),(3,2))\n",
    "labyrinthe.addArrete((2,3),(1,3))\n",
    "labyrinthe.addArrete((1,3),(1,4))\n",
    "labyrinthe.addArrete((1,4),(1,5))\n",
    "labyrinthe.addArrete((1,4),(2,4))\n",
    "labyrinthe.addArrete((1,5),(2,5))\n",
    "labyrinthe.addArrete((2,4),(3,4))\n",
    "labyrinthe.addArrete((2,5),(2,6))\n",
    "labyrinthe.addArrete((2,6),(1,6))\n",
    "labyrinthe.addArrete((2,6),(3,6))\n",
    "labyrinthe.addArrete((2,7),(3,7))\n",
    "labyrinthe.addArrete((1,6),(1,7))\n",
    "labyrinthe.addArrete((2,6),(2,7))\n",
    "labyrinthe.addArrete((1,7),(1,8))\n",
    "labyrinthe.addArrete((1,8),(2,8))\n",
    "labyrinthe.addArrete((1,2),(3,2))\n",
    "labyrinthe.addArrete((3,2),(4,2))\n",
    "labyrinthe.addArrete((4,2),(4,3))\n",
    "labyrinthe.addArrete((4,3),(4,4))\n",
    "labyrinthe.addArrete((3,4),(3,5))\n",
    "labyrinthe.addArrete((3,5),(3,6))\n",
    "labyrinthe.addArrete((3,6),(4,6))\n",
    "labyrinthe.addArrete((3,6),(3,7))\n",
    "labyrinthe.addArrete((4,6),(4,5))\n",
    "labyrinthe.addArrete((3,7),(4,7))\n",
    "labyrinthe.addArrete((4,7),(4,8))\n",
    "labyrinthe.addArrete((4,8),(3,8))\n",
    "\n",
    "\n",
    "\n",
    "\n",
    "\n",
    "#print(str(labyrinthe))\n",
    "print(labyrinthe.lstAdj[(1,1)])"
   ]
  },
  {
   "cell_type": "markdown",
   "metadata": {},
   "source": [
    "# dessin de votre labyrinthe\n",
    "Pour voir le labyrinthe que vous avez créé, vous allez avoir besoin des fonction ci-dessous.\n",
    "Vous n'avez pas besoin de les regarder, la seule chose donc vous avez besoin c'est de dessiner avec showLabyrinthe(cote,nli,ncol) ou :\n",
    "cote est un entier qui code la longuer des coté des case (mettez 50)\n",
    "nli et ncol sont les nombres de lignes et colones de votre labyrinthe, donc ici 4 et 8"
   ]
  },
  {
   "cell_type": "code",
   "execution_count": 5,
   "metadata": {
    "collapsed": true
   },
   "outputs": [],
   "source": [
    "from turtle import *\n",
    "# Code boilerplate\n",
    "try:\n",
    "    reset()\n",
    "except Terminator:\n",
    "    pass\n",
    "\n",
    "\n",
    "def cadre(nli,ncol,cote):\n",
    "    up()\n",
    "    goto(-100,100)\n",
    "    down()\n",
    "    #dessin parois extérieures\n",
    "\n",
    "    for j in range(2):\n",
    "        for i in range(ncol):\n",
    "            forward(cote)\n",
    "        right(90)\n",
    "        for i in range(nli):\n",
    "            forward(cote)\n",
    "        right(90)\n",
    "\n",
    "def paroiesVerticales(nli,ncol,dist):\n",
    "    # dessin des parois internes verticales\n",
    "\n",
    "    for i in range(1,nli+1):\n",
    "        for j in range(1,ncol) :\n",
    "            dess=(i,j+1) not in labyrinthe.lstAdj[(i,j)]\n",
    "            if dess :\n",
    "                up()\n",
    "                forward(dist)\n",
    "                down()\n",
    "                right(90)\n",
    "                forward(dist)\n",
    "                backward(dist)\n",
    "                left(90)\n",
    "            else :\n",
    "                up()\n",
    "                forward(dist)\n",
    "\n",
    "        up()\n",
    "        goto(-100,100)\n",
    "        right(90)\n",
    "        forward(dist*i)\n",
    "        left(90)\n",
    "def paroiesHorizontales(nli,ncol,cote):\n",
    "\n",
    "    # dessin des parois internes horizontales\n",
    "    up()\n",
    "    goto(-100,100-cote)\n",
    "    for i in range(1,nli):\n",
    "        for j in range(1,ncol) :\n",
    "            dess=(i+1,j) not in labyrinthe.lstAdj[(i,j)]\n",
    "            if dess :\n",
    "                down()\n",
    "                forward(cote)\n",
    "            else :\n",
    "                up()\n",
    "                forward(cote)\n",
    "\n",
    "        up()\n",
    "        goto(-100,100-cote*(i+1))\n",
    "\n",
    "\n",
    "        \n",
    "def showLabyrinthe(labyrinthe,cote,nli,ncol):\n",
    "    cadre(nli,ncol,cote)\n",
    "    paroiesVerticales(nli,ncol,cote)\n",
    "    paroiesHorizontales(nli,ncol,cote)\n",
    "    exitonclick()\n",
    "\n",
    "\n",
    "    #le dessin va s'ouvrir dans une fenêtre\n",
    "######### ATTENTION ##############\n",
    "# avant de poursuivre vous devez cliquer dans la fenêtre, cela va la fermer\n",
    "# vous pouvez relancer le dessin après correction de votre graphe si besoin\n",
    "\n",
    "showLabyrinthe(labyrinthe,50,4,8)        \n",
    "        "
   ]
  },
  {
   "cell_type": "markdown",
   "metadata": {},
   "source": [
    "<center><font color=\"red\" size=\"12\">questions</font></center>"
   ]
  },
  {
   "cell_type": "markdown",
   "metadata": {},
   "source": [
    "<b>1) Faites afficher les case ou je peux me rendre si je suis en (3,4)</b>"
   ]
  },
  {
   "cell_type": "code",
   "execution_count": null,
   "metadata": {
    "collapsed": true
   },
   "outputs": [],
   "source": [
    "print(labyrinthe.lstAdj[(3,4)])"
   ]
  },
  {
   "cell_type": "markdown",
   "metadata": {},
   "source": [
    "<b>2) Ecrire une fonction passage(case1,case2) qui renvoie True si on peut passer de case1 à case2 et False sinon\n",
    "</b><br>\n",
    "La fonction doit vérifier que les 2 cases sont contigues et qu'il n'y a pas de paroie empêchant le passage"
   ]
  },
  {
   "cell_type": "code",
   "execution_count": null,
   "metadata": {
    "collapsed": true
   },
   "outputs": [],
   "source": [
    "def passage(case1,case2) :\n",
    "    if case1[0]==case2[0] and abs(case1[1]-case2[1])==1 or \\\n",
    "    case1[1]==case2[1] and abs(case1[0]-case2[0])==1 and \\\n",
    "    case2 in labyrinthe.lstAdj[case1]:\n",
    "        return True\n",
    "    return False"
   ]
  },
  {
   "cell_type": "code",
   "execution_count": null,
   "metadata": {
    "collapsed": true
   },
   "outputs": [],
   "source": []
  },
  {
   "cell_type": "code",
   "execution_count": null,
   "metadata": {
    "collapsed": true
   },
   "outputs": [],
   "source": [
    "#tests :\n",
    "ok=True\n",
    "if passage( (1,2),(2,2))!=False : ok=False\n",
    "if passage( (2,2),(3,2))!=True : ok=False\n",
    "if passage( (2,2),(3,3))!=False : ok=False\n",
    "if passage( (2,2),(2,2))!=False : ok=False\n",
    "if passage( (2,2),(1,1))!=False : ok=False\n",
    "if passage( (2,3),(2,5))!=False : ok=False\n",
    "\n",
    "if ok :\n",
    "    print('Tests ok') \n",
    "else :\n",
    "    print('passage n\\'a pas passé les tests')"
   ]
  },
  {
   "cell_type": "code",
   "execution_count": null,
   "metadata": {
    "collapsed": true
   },
   "outputs": [],
   "source": []
  }
 ],
 "metadata": {
  "kernelspec": {
   "display_name": "Python 3",
   "language": "python",
   "name": "python3"
  },
  "language_info": {
   "codemirror_mode": {
    "name": "ipython",
    "version": 3
   },
   "file_extension": ".py",
   "mimetype": "text/x-python",
   "name": "python",
   "nbconvert_exporter": "python",
   "pygments_lexer": "ipython3",
   "version": "3.7.3"
  }
 },
 "nbformat": 4,
 "nbformat_minor": 2
}
