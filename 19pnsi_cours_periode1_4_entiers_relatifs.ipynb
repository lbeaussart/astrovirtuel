{
 "cells": [
  {
   "cell_type": "markdown",
   "metadata": {},
   "source": [
    "&nbsp;"
   ]
  },
  {
   "cell_type": "markdown",
   "metadata": {},
   "source": [
    "# 4. Représentation des entiers relatifs"
   ]
  },
  {
   "cell_type": "markdown",
   "metadata": {},
   "source": [
    "Nous avons vu que sur un **octet** on peut représenter les nombres entiers naturels allant de $0$ à $(1111~1111)_2$ soit de $0$ à $255$. En effet, pour chacun des 8 chiffres, il y a deux possibilités (0 ou 1) ce qui fait en tout $\\:2\\: \\times \\:2\\: \\times  \\:2\\: \\times  ... \\times  \\:2\\: =\\: 2^8 \\: =\\:256 $.\n",
    "\n",
    "Ainsi le nombre entier naturel $13$ est représenté en base 2 par : $(0000~1101)_2$.\n",
    "\n",
    "\n",
    "Il est donc représenté dans la mémoire d’un ordinateur par le \" mot \" $0000~1101$.\n",
    "\n",
    "\n",
    "Nous allons étendre aux entiers relatifs la représentation binaire des entiers naturels.\n"
   ]
  },
  {
   "cell_type": "markdown",
   "metadata": {},
   "source": [
    "&nbsp;"
   ]
  },
  {
   "cell_type": "markdown",
   "metadata": {},
   "source": [
    "## 4.1 Première solution : un bit de signe"
   ]
  },
  {
   "cell_type": "markdown",
   "metadata": {},
   "source": [
    "La première idée est d'utiliser le bit de poids le plus fort (c’est-à-dire celui du rang le plus à gauche) comme marqueur du signe, les autres bits donnant une valeur absolue : \n",
    "\n",
    "\n",
    "$\\textbf{0}\\:$ pour un signe $\\textbf{+}\\:$ et $\\textbf{1}\\:$ pour un signe $\\textbf{-}\\:$\n",
    "\n",
    "\n",
    "$\\textbf{0}\\:000~0100$ en base 2 correspondrait à $\\textbf{+}\\:4$ en base 10\n",
    "\n",
    "\n",
    "$\\textbf{1}\\:000~0100$ en base 2 correspondrait à $\\textbf{-}\\:4$ en base 10\n",
    "\n",
    "\n",
    "Cette représentation a deux inconvénients :\n",
    "\n",
    "- Le premier (mineur) est que le nombre \"zéro\", qui peut s'écrire indifféremment  $\\textbf{+}\\:0$ ou $\\textbf{-}\\:0$ en base 10, possède deux représentations *distinctes* en base 2 avec cette méthode :\n",
    "$\\textbf{0}\\:000~0000\\: =\\: \\textbf{+}\\:0\\:$  et $\\:\\textbf{1}\\:000~0000\\: =\\: \\textbf{-}\\:0$ .\n",
    "\n",
    "- L'autre inconvénient (majeur) est que cette représentation impose de modifier l'algorithme d'addition ; si un des nombres est négatif, l'addition binaire usuelle donne un résultat incorrect. Ainsi par exemple l’addition de 3 et de -4 (signe moins représenté avec un bit de signe) s’écrit en binaire :\n"
   ]
  },
  {
   "cell_type": "markdown",
   "metadata": {},
   "source": [
    "<table>\n",
    "  <tr>\n",
    "    <th></th>\n",
    "    <th>3</th>\n",
    "    <th></th>\n",
    "    <th></th>\n",
    "    <th></th>\n",
    "    <th></th>\n",
    "    <th></th>\n",
    "    <th></th>\n",
    "    <th>0</th>\n",
    "    <th>0</th>\n",
    "    <th>0</th>\n",
    "    <th>0</th>\n",
    "    <th>0</th>\n",
    "    <th>0</th>\n",
    "    <th>1</th>\n",
    "    <th>1</th>\n",
    "    <th></th>\n",
    "    <th></th>\n",
    "    <th></th>\n",
    "    <th></th>\n",
    "    <th></th>\n",
    "    <th></th>\n",
    "    <th>3</th>\n",
    "    <th></th>\n",
    "  </tr>\n",
    "  <tr>\n",
    "    <td>+</td>\n",
    "    <td>-4</td>\n",
    "    <td></td>\n",
    "    <td></td>\n",
    "    <td></td>\n",
    "    <td></td>\n",
    "    <td></td>\n",
    "    <td>+</td>\n",
    "    <td>1</td>\n",
    "    <td>0</td>\n",
    "    <td>0</td>\n",
    "    <td>0</td>\n",
    "    <td>0</td>\n",
    "    <td>1</td>\n",
    "    <td>0</td>\n",
    "    <td>0</td>\n",
    "    <td></td>\n",
    "    <td></td>\n",
    "    <td></td>\n",
    "    <td></td>\n",
    "    <td></td>\n",
    "    <td>+</td>\n",
    "    <td>-4</td>\n",
    "    <td></td>\n",
    "  </tr>\n",
    "  <tr>\n",
    "    <td>=</td>\n",
    "    <td></td>\n",
    "    <td></td>\n",
    "    <td></td>\n",
    "    <td></td>\n",
    "    <td></td>\n",
    "    <td></td>\n",
    "    <td>=</td>\n",
    "    <td>1</td>\n",
    "    <td>0</td>\n",
    "    <td>0</td>\n",
    "    <td>0</td>\n",
    "    <td>0</td>\n",
    "    <td>1</td>\n",
    "    <td>1</td>\n",
    "    <td>1</td>\n",
    "    <td></td>\n",
    "    <td></td>\n",
    "    <td></td>\n",
    "    <td></td>\n",
    "    <td></td>\n",
    "    <td>=</td>\n",
    "    <td>-7</td>\n",
    "    <td>??</td>\n",
    "  </tr>\n",
    "</table>"
   ]
  },
  {
   "cell_type": "markdown",
   "metadata": {},
   "source": [
    "$0000~ 0011 + 1000~ 0100 = 1000~ 0111$\n",
    "\n",
    "\n",
    "En base 10 cela donne 3 − 4 = −7 au lieu de −1. Donc l’algorithme d’addition ne fonctionne pas.\n"
   ]
  },
  {
   "cell_type": "markdown",
   "metadata": {},
   "source": [
    "&nbsp;"
   ]
  },
  {
   "cell_type": "markdown",
   "metadata": {},
   "source": [
    "## 4.2 Solution choisie : le complément à deux"
   ]
  },
  {
   "cell_type": "markdown",
   "metadata": {},
   "source": [
    "Pour éviter les inconvénients de la représentation précédente on va utiliser la représentation en complément à deux.\n",
    "\n",
    "\n",
    "Pour comprendre cette notion de **complément à deux** il nous faut commencer par définir ce que l'on appelle le **complément à un**.\n",
    "\n",
    "\n",
    "Le **complément à un** d'un nombre binaire est la valeur obtenue en prenant le NOT de tous les bits de ce nombre (en permutant les 0 par des 1 et les 0 par des 1).\n",
    "\n",
    "\n",
    "$0000~0100$ en base 2 correspondrait à $\\textbf{+}\\:4$ en base 10\n",
    "\n",
    "\n",
    "$1111~1011$ en base 2 correspondrait à $\\textbf{-}\\:4$ en base 10\n"
   ]
  },
  {
   "cell_type": "markdown",
   "metadata": {},
   "source": [
    "&nbsp;"
   ]
  },
  {
   "cell_type": "markdown",
   "metadata": {},
   "source": [
    "## 4.3 Testons notre addition !"
   ]
  },
  {
   "cell_type": "markdown",
   "metadata": {},
   "source": [
    "Ainsi par exemple l’addition de $8$ et de $\\textbf{-}\\:4$ (représenté en complément à un) s’écrit en binaire :"
   ]
  },
  {
   "cell_type": "markdown",
   "metadata": {},
   "source": [
    "<table>\n",
    "  <tr>\n",
    "    <th colspan=\"7\">retenues</th>\n",
    "    <th>1</th>\n",
    "    <th>1</th>\n",
    "    <th>1</th>\n",
    "    <th>1</th>\n",
    "    <th>1</th>\n",
    "    <th></th>\n",
    "    <th></th>\n",
    "    <th></th>\n",
    "    <th></th>\n",
    "    <th></th>\n",
    "    <th></th>\n",
    "    <th></th>\n",
    "    <th></th>\n",
    "    <th></th>\n",
    "    <th></th>\n",
    "    <th></th>\n",
    "    <th></th>\n",
    "  </tr>\n",
    "  <tr>\n",
    "    <td></td>\n",
    "    <td>8</td>\n",
    "    <td></td>\n",
    "    <td></td>\n",
    "    <td></td>\n",
    "    <td></td>\n",
    "    <td></td>\n",
    "    <td></td>\n",
    "    <td>0</td>\n",
    "    <td>0</td>\n",
    "    <td>0</td>\n",
    "    <td>0</td>\n",
    "    <td>1</td>\n",
    "    <td>0</td>\n",
    "    <td>0</td>\n",
    "    <td>0</td>\n",
    "    <td></td>\n",
    "    <td></td>\n",
    "    <td></td>\n",
    "    <td></td>\n",
    "    <td></td>\n",
    "    <td></td>\n",
    "    <td>8</td>\n",
    "    <td></td>\n",
    "  </tr>\n",
    "  <tr>\n",
    "    <td>+</td>\n",
    "    <td>-4</td>\n",
    "    <td></td>\n",
    "    <td></td>\n",
    "    <td></td>\n",
    "    <td></td>\n",
    "    <td></td>\n",
    "    <td>+</td>\n",
    "    <td>1</td>\n",
    "    <td>1</td>\n",
    "    <td>1</td>\n",
    "    <td>1</td>\n",
    "    <td>1</td>\n",
    "    <td>0</td>\n",
    "    <td>1</td>\n",
    "    <td>1</td>\n",
    "    <td></td>\n",
    "    <td></td>\n",
    "    <td></td>\n",
    "    <td></td>\n",
    "    <td></td>\n",
    "    <td>+</td>\n",
    "    <td>-4</td>\n",
    "    <td></td>\n",
    "  </tr>\n",
    "  <tr>\n",
    "    <td>=</td>\n",
    "    <td></td>\n",
    "    <td></td>\n",
    "    <td></td>\n",
    "    <td></td>\n",
    "    <td></td>\n",
    "    <td></td>\n",
    "    <td>=</td>\n",
    "    <td>0</td>\n",
    "    <td>0</td>\n",
    "    <td>0</td>\n",
    "    <td>0</td>\n",
    "    <td>0</td>\n",
    "    <td>0</td>\n",
    "    <td>1</td>\n",
    "    <td>1</td>\n",
    "    <td></td>\n",
    "    <td></td>\n",
    "    <td></td>\n",
    "    <td></td>\n",
    "    <td></td>\n",
    "    <td>=</td>\n",
    "    <td>3</td>\n",
    "    <td>??</td>\n",
    "  </tr>\n",
    "</table>"
   ]
  },
  {
   "cell_type": "markdown",
   "metadata": {},
   "source": [
    "$0000~ 1000~  +~  1111~  1011~  =~  0000~  0011$\n",
    "\n",
    "\n",
    "La dernière retenue éventuelle est perdue car on travaille sur des mots de 8 bits.\n",
    "\n",
    "\n",
    "Le résultat est $0000~  0011$ c’est-à-dire $3$\n",
    "\n",
    "\n",
    "Soit    $~ 8~ −~  4~  =~  3~ $   au lieu de $4$ \n",
    "\n",
    "\n",
    "Cela ne nous donne toujours pas le résultat attendu.\n"
   ]
  },
  {
   "cell_type": "markdown",
   "metadata": {},
   "source": [
    "&nbsp;"
   ]
  },
  {
   "cell_type": "markdown",
   "metadata": {},
   "source": [
    "Pour y arriver, l'astuce va consister à rajouter $(1)_2$ à notre complément à un. On parle alors de **complément à deux**.\n",
    "\n",
    "\n",
    "Le **complément à deux** d'un nombre binaire est la valeur obtenue en prenant **le complément à un** de tous les bits de ce nombre (en permutant les 0 par des 1 et les 0 par des 1) et *en additionnant 1 au résultat*.\n"
   ]
  },
  {
   "cell_type": "markdown",
   "metadata": {},
   "source": [
    "<table>\n",
    "  <tr>\n",
    "    <th></th>\n",
    "    <th>Ecriture de x en base 10</th>\n",
    "    <th></th>\n",
    "    <th></th>\n",
    "    <th></th>\n",
    "    <th></th>\n",
    "    <th></th>\n",
    "    <th></th>\n",
    "    <th></th>\n",
    "    <th></th>\n",
    "    <th></th>\n",
    "    <th>-4</th>\n",
    "    <th></th>\n",
    "    <th></th>\n",
    "  </tr>\n",
    "  <tr>\n",
    "    <td>Etape 1</td>\n",
    "    <td>Prendre la valeur absolue</td>\n",
    "    <td></td>\n",
    "    <td></td>\n",
    "    <td></td>\n",
    "    <td></td>\n",
    "    <td></td>\n",
    "    <td></td>\n",
    "    <td></td>\n",
    "    <td></td>\n",
    "    <td></td>\n",
    "    <td>4</td>\n",
    "    <td></td>\n",
    "    <td></td>\n",
    "  </tr>\n",
    "  <tr>\n",
    "    <td>Etape 2</td>\n",
    "    <td>Convertir en base 2</td>\n",
    "    <td></td>\n",
    "    <td>0</td>\n",
    "    <td>0</td>\n",
    "    <td>0</td>\n",
    "    <td>0</td>\n",
    "    <td></td>\n",
    "    <td>0</td>\n",
    "    <td>1</td>\n",
    "    <td>0</td>\n",
    "    <td>0</td>\n",
    "    <td></td>\n",
    "    <td></td>\n",
    "  </tr>\n",
    "  <tr>\n",
    "    <td>Etape 3</td>\n",
    "    <td>Complément à 1</td>\n",
    "    <td></td>\n",
    "    <td>1</td>\n",
    "    <td>1</td>\n",
    "    <td>1</td>\n",
    "    <td>1</td>\n",
    "    <td></td>\n",
    "    <td>1</td>\n",
    "    <td>0</td>\n",
    "    <td>1</td>\n",
    "    <td>1</td>\n",
    "    <td></td>\n",
    "    <td></td>\n",
    "  </tr>\n",
    "  <tr>\n",
    "    <td>Etape 4</td>\n",
    "    <td>Ajouter 1</td>\n",
    "    <td>+</td>\n",
    "    <td></td>\n",
    "    <td></td>\n",
    "    <td></td>\n",
    "    <td></td>\n",
    "    <td></td>\n",
    "    <td></td>\n",
    "    <td></td>\n",
    "    <td></td>\n",
    "    <td>1</td>\n",
    "    <td></td>\n",
    "    <td></td>\n",
    "  </tr>\n",
    "  <tr>\n",
    "    <td></td>\n",
    "    <td>La complément à 2 de -4 est :</td>\n",
    "    <td></td>\n",
    "    <td>1</td>\n",
    "    <td>1</td>\n",
    "    <td>1</td>\n",
    "    <td>1</td>\n",
    "    <td></td>\n",
    "    <td>1</td>\n",
    "    <td>1</td>\n",
    "    <td>0</td>\n",
    "    <td>0</td>\n",
    "    <td></td>\n",
    "    <td></td>\n",
    "  </tr>\n",
    "</table>\n",
    "\n"
   ]
  },
  {
   "cell_type": "markdown",
   "metadata": {},
   "source": [
    "Ainsi, on représente :\n",
    "    \n",
    "    \n",
    "- Les entiers positifs par leur écriture en base 2 normalement. Le bit de plus fort poids (c'est à dire\n",
    "celui situé le plus à gauche) est un **0**\n",
    "\n",
    "\n",
    "- Les entiers négatifs par leur complément à deux. On remarque qu'alors le bit de plus fort poids est un **1**\n",
    "\n",
    "\n",
    "- dans notre exemple, $\\textbf{-}~4$ est représenté sur 8 bits par $\\textbf{1}111~1100$ \n",
    "et $4$ est représenté sur 8 bits par $\\textbf{0}000~0100$ "
   ]
  },
  {
   "cell_type": "markdown",
   "metadata": {},
   "source": [
    "**Remarque :**\n",
    "\n",
    "\n",
    "La contrainte d'avoir le bit de poids fort égal à $\\textbf{0}$ pour les entiers positifs, oblige à restreindre la plage des nombres positifs à la moitié de celle autorisée par le nombre de bits.\n",
    "\n",
    "\n",
    "Par exemple, si on utilise des mots de 8 bits (c'est à dire des octets), on utilisera la plage de $\\textbf{0}000~0000$ à\n",
    "$\\textbf{0}111~1111$ soit de 0 à 127 pour les nombres positifs.\n",
    "\n",
    "\n",
    "Les 128 autres possibilités (c'est à dire la plage de $\\textbf{1}000~0000$ à\n",
    "$\\textbf{1}111~1111$ sont réservées aux nombres négatifs, puisque leur bit de poids fort est un $\\textbf{1}$."
   ]
  },
  {
   "cell_type": "markdown",
   "metadata": {},
   "source": [
    "&nbsp;"
   ]
  },
  {
   "cell_type": "markdown",
   "metadata": {},
   "source": [
    "## 4.4 Testons à nouveau notre addition !"
   ]
  },
  {
   "cell_type": "markdown",
   "metadata": {},
   "source": [
    "Ainsi l’addition de $8$ et de $-4$ représenté par son complément à deux s’écrit en binaire :"
   ]
  },
  {
   "cell_type": "markdown",
   "metadata": {},
   "source": [
    "<table>\n",
    "  <tr>\n",
    "    <th colspan=\"7\">retenues</th>\n",
    "    <th>1</th>\n",
    "    <th>1</th>\n",
    "    <th>1</th>\n",
    "    <th>1</th>\n",
    "    <th>1</th>\n",
    "    <th></th>\n",
    "    <th></th>\n",
    "    <th></th>\n",
    "    <th></th>\n",
    "    <th></th>\n",
    "    <th></th>\n",
    "    <th></th>\n",
    "    <th></th>\n",
    "    <th></th>\n",
    "    <th></th>\n",
    "    <th></th>\n",
    "    <th></th>\n",
    "  </tr>\n",
    "  <tr>\n",
    "    <td></td>\n",
    "    <td>8</td>\n",
    "    <td></td>\n",
    "    <td></td>\n",
    "    <td></td>\n",
    "    <td></td>\n",
    "    <td></td>\n",
    "    <td></td>\n",
    "    <td>0</td>\n",
    "    <td>0</td>\n",
    "    <td>0</td>\n",
    "    <td>0</td>\n",
    "    <td>1</td>\n",
    "    <td>0</td>\n",
    "    <td>0</td>\n",
    "    <td>0</td>\n",
    "    <td></td>\n",
    "    <td></td>\n",
    "    <td></td>\n",
    "    <td></td>\n",
    "    <td></td>\n",
    "    <td></td>\n",
    "    <td>8</td>\n",
    "    <td></td>\n",
    "  </tr>\n",
    "  <tr>\n",
    "    <td>+</td>\n",
    "    <td>-4</td>\n",
    "    <td></td>\n",
    "    <td></td>\n",
    "    <td></td>\n",
    "    <td></td>\n",
    "    <td></td>\n",
    "    <td>+</td>\n",
    "    <td>1</td>\n",
    "    <td>1</td>\n",
    "    <td>1</td>\n",
    "    <td>1</td>\n",
    "    <td>1</td>\n",
    "    <td>1</td>\n",
    "    <td>0</td>\n",
    "    <td>0</td>\n",
    "    <td></td>\n",
    "    <td></td>\n",
    "    <td></td>\n",
    "    <td></td>\n",
    "    <td></td>\n",
    "    <td>+</td>\n",
    "    <td>-4</td>\n",
    "    <td></td>\n",
    "  </tr>\n",
    "  <tr>\n",
    "    <td>=</td>\n",
    "    <td></td>\n",
    "    <td></td>\n",
    "    <td></td>\n",
    "    <td></td>\n",
    "    <td></td>\n",
    "    <td></td>\n",
    "    <td>=</td>\n",
    "    <td>0</td>\n",
    "    <td>0</td>\n",
    "    <td>0</td>\n",
    "    <td>0</td>\n",
    "    <td>0</td>\n",
    "    <td>1</td>\n",
    "    <td>0</td>\n",
    "    <td>0</td>\n",
    "    <td></td>\n",
    "    <td></td>\n",
    "    <td></td>\n",
    "    <td></td>\n",
    "    <td></td>\n",
    "    <td>=</td>\n",
    "    <td>4</td>\n",
    "    <td></td>\n",
    "  </tr>\n",
    "</table>"
   ]
  },
  {
   "cell_type": "markdown",
   "metadata": {},
   "source": [
    "Cette fois c’est le résultat attendu.\n",
    "\n",
    "\n",
    "Cette retenue qui va au-delà du 8ème bit correspond à ce que l'on appelle un dépassement de capacité.\n",
    "\n",
    "\n",
    "C'est le fait que le calcul est limité à 8 bits qui fait que notre système de complément à deux fonctionne !"
   ]
  },
  {
   "cell_type": "markdown",
   "metadata": {},
   "source": [
    "Pour terminer, vous pourrez remarquer que passer au complément à deux revient à translater les nombres négatifs comme vous pouvez le voir sur la figure ci-dessous :"
   ]
  },
  {
   "cell_type": "markdown",
   "metadata": {},
   "source": [
    "<img src=\"http://www.astrovirtuel.fr/jupyter/19pnsi_cours_periode_1_4_entiers_relatifs_fig1.jpg\">\n",
    "<p style=\"text-align:center;\"><i>Figure 1</i></p>"
   ]
  },
  {
   "cell_type": "markdown",
   "metadata": {},
   "source": [
    "## 4.5 Synthèse"
   ]
  },
  {
   "cell_type": "markdown",
   "metadata": {},
   "source": [
    "Un entier positif est représenté par un mot dont le premier bit sera 0, et un entier négatif par un mot dont le premier bit sera 1.\n",
    "\n",
    "\n",
    "- Sur 16 bits les entiers négatifs représentables sont ceux allant de $-\\:32768$ à $-\\:1\\:$ :\n"
   ]
  },
  {
   "cell_type": "markdown",
   "metadata": {},
   "source": [
    "<table>\n",
    "  <tr>\n",
    "    <th></th>\n",
    "    <th>Ecriture de x en base 10</th>\n",
    "    <th></th>\n",
    "    <th>de</th>\n",
    "    <th>...</th>\n",
    "    <th>-32768</th>\n",
    "    <th></th>\n",
    "    <th>à</th>\n",
    "    <th>...</th>\n",
    "    <th>-1</th>\n",
    "    <th></th>\n",
    "  </tr>\n",
    "  <tr>\n",
    "    <td></td>\n",
    "    <td>Valeur absolue de x</td>\n",
    "    <td></td>\n",
    "    <td>de</td>\n",
    "    <td>...</td>\n",
    "    <td>32768</td>\n",
    "    <td></td>\n",
    "    <td>à</td>\n",
    "    <td>...</td>\n",
    "    <td>1</td>\n",
    "    <td></td>\n",
    "  </tr>\n",
    "  <tr>\n",
    "    <td></td>\n",
    "    <td>Ecriture sur 16 bits de la valeur absolue</td>\n",
    "    <td></td>\n",
    "    <td>de</td>\n",
    "    <td>...</td>\n",
    "    <td>1000 0000 0000 0000</td>\n",
    "    <td></td>\n",
    "    <td>à</td>\n",
    "    <td>...</td>\n",
    "    <td>0000 0000 0000 0001</td>\n",
    "    <td></td>\n",
    "  </tr>\n",
    "  <tr>\n",
    "    <td></td>\n",
    "    <td>Complément à un</td>\n",
    "    <td></td>\n",
    "    <td>de</td>\n",
    "    <td>...</td>\n",
    "    <td>01111 1111 1111 1111</td>\n",
    "    <td></td>\n",
    "    <td>à</td>\n",
    "    <td>...</td>\n",
    "    <td>1111 1111 1111 1110</td>\n",
    "    <td></td>\n",
    "  </tr>\n",
    "  <tr>\n",
    "    <td></td>\n",
    "    <td>Ecriture sur 16 bits de x</td>\n",
    "    <td></td>\n",
    "    <td>de</td>\n",
    "    <td>...</td>\n",
    "    <td>1000 0000 0000 0000</td>\n",
    "    <td></td>\n",
    "    <td>à</td>\n",
    "    <td>...</td>\n",
    "    <td>1111 1111 1111 1111</td>\n",
    "    <td></td>\n",
    "  </tr>\n",
    "</table>"
   ]
  },
  {
   "cell_type": "markdown",
   "metadata": {},
   "source": [
    "&nbsp;"
   ]
  },
  {
   "cell_type": "markdown",
   "metadata": {},
   "source": [
    "- Et sur 16 bits (ce qui laisse $\\:2^{16}\\:=\\:65536\\:$ possibilités), les entiers positifs représentables\n",
    "sont ceux allant de $0$ à $32767$ :"
   ]
  },
  {
   "cell_type": "markdown",
   "metadata": {},
   "source": [
    "<table>\n",
    "  <tr>\n",
    "    <th></th>\n",
    "    <th>Ecriture de x en base 10</th>\n",
    "    <th></th>\n",
    "    <th>de</th>\n",
    "    <th>...</th>\n",
    "    <th>0</th>\n",
    "    <th></th>\n",
    "    <th>à</th>\n",
    "    <th>...</th>\n",
    "    <th>32767</th>\n",
    "    <th></th>\n",
    "  </tr>\n",
    "  <tr>\n",
    "    <td></td>\n",
    "    <td>Valeur absolue de x</td>\n",
    "    <td></td>\n",
    "    <td>de</td>\n",
    "    <td>...</td>\n",
    "    <td>\" \" </td>\n",
    "    <td></td>\n",
    "    <td>à</td>\n",
    "    <td>...</td>\n",
    "    <td>\" \"</td>\n",
    "    <td></td>\n",
    "  </tr>\n",
    "  <tr>\n",
    "    <td></td>\n",
    "    <td>Ecriture sur 16 bits de x</td>\n",
    "    <td></td>\n",
    "    <td>de</td>\n",
    "    <td>...</td>\n",
    "    <td>0000 0000 0000 0000</td>\n",
    "    <td></td>\n",
    "    <td>à</td>\n",
    "    <td>...</td>\n",
    "    <td>0111 1111 1111 1111</td>\n",
    "    <td></td>\n",
    "  </tr>\n",
    "</table>"
   ]
  },
  {
   "cell_type": "markdown",
   "metadata": {},
   "source": [
    "&nbsp;"
   ]
  },
  {
   "cell_type": "markdown",
   "metadata": {},
   "source": [
    "- Avec $N = 16$ bits, on peut représenter en base 2, les nombres de $\\:-2^{15}\\:$ à $\\:-1\\:$ pour ce qui est des négatifs et de\n",
    "$\\:0\\:$ à $\\:2^{15} - 1\\:$ pour ce qui est des positifs."
   ]
  },
  {
   "cell_type": "markdown",
   "metadata": {},
   "source": [
    "- Généralisation : avec $N$ bits, on peut représenter en base 2, les nombres de $\\:-2^{N-1}\\:$ à $\\:-1\\:$ pour ce qui est des négatifs et de\n",
    "$\\:0\\:$ à $\\:2^{N-1} - 1\\:$ pour ce qui est des positifs."
   ]
  },
  {
   "cell_type": "markdown",
   "metadata": {},
   "source": [
    "&nbsp;"
   ]
  },
  {
   "cell_type": "markdown",
   "metadata": {},
   "source": [
    "- Python peut manipuler des nombres du type interger (c'est à dire entier) arbitrairement grands. N'importe quel entier trop grand pour être écrit sur 64 bits (ou toute limite imposée par le matériel) sera quand même traité de façon logicielle.\n"
   ]
  },
  {
   "cell_type": "markdown",
   "metadata": {},
   "source": [
    "&nbsp;"
   ]
  },
  {
   "cell_type": "markdown",
   "metadata": {},
   "source": [
    "*Pour chacun des exercices suivants, répondez dans la cellule située sous la question.*"
   ]
  },
  {
   "cell_type": "markdown",
   "metadata": {},
   "source": [
    "<p style=\"text-align:left;\"><ul><li><h3>A faire vous-même 1</h3></ul></p>"
   ]
  },
  {
   "cell_type": "markdown",
   "metadata": {},
   "source": [
    "Quel est le résultat de la somme d'un nombre binaire représentant un entier positif sur 16 bits et de son complément à un ?"
   ]
  },
  {
   "cell_type": "markdown",
   "metadata": {},
   "source": []
  },
  {
   "cell_type": "markdown",
   "metadata": {},
   "source": [
    "&nbsp;"
   ]
  },
  {
   "cell_type": "markdown",
   "metadata": {},
   "source": [
    "<p style=\"text-align:left;\"><ul><li><h3>A faire vous-même 2</h3></ul></p>"
   ]
  },
  {
   "cell_type": "markdown",
   "metadata": {},
   "source": [
    "Quels entiers relatifs peut-on coder sur huit bits ?"
   ]
  },
  {
   "cell_type": "markdown",
   "metadata": {},
   "source": []
  },
  {
   "cell_type": "markdown",
   "metadata": {},
   "source": [
    "&nbsp;"
   ]
  },
  {
   "cell_type": "markdown",
   "metadata": {},
   "source": [
    "<p style=\"text-align:left;\"><ul><li><h3>A faire vous-même 3</h3></ul></p>"
   ]
  },
  {
   "cell_type": "markdown",
   "metadata": {},
   "source": [
    "Trouver \" à la main \" les représentations binaires sur 8 bits des entiers relatifs suivants écrits en base 10 :\n",
    "\n",
    "\n",
    "0 , -128, 127, 101 et -94. "
   ]
  },
  {
   "cell_type": "markdown",
   "metadata": {},
   "source": []
  },
  {
   "cell_type": "markdown",
   "metadata": {},
   "source": [
    "&nbsp;"
   ]
  },
  {
   "cell_type": "markdown",
   "metadata": {},
   "source": [
    "<p style=\"text-align:left;\"><ul><li><h3>A faire vous-même 4</h3></ul></p>"
   ]
  },
  {
   "cell_type": "markdown",
   "metadata": {},
   "source": [
    "Déterminer l’écriture en base 10 des entiers relatifs écrits sur 8 bits par : $(0001~0111)_2$ et $(1000~1100)_2$."
   ]
  },
  {
   "cell_type": "markdown",
   "metadata": {},
   "source": []
  },
  {
   "cell_type": "markdown",
   "metadata": {},
   "source": [
    "&nbsp;"
   ]
  },
  {
   "cell_type": "markdown",
   "metadata": {},
   "source": [
    "<p style=\"text-align:left;\"><ul><li><h3>A faire vous-même 5</h3></ul></p>"
   ]
  },
  {
   "cell_type": "markdown",
   "metadata": {},
   "source": [
    "Déterminer la représentation sur 8 bits de l’entier relatif $(11)_{10}$, puis celle de son opposé. "
   ]
  },
  {
   "cell_type": "markdown",
   "metadata": {},
   "source": []
  }
 ],
 "metadata": {
  "kernelspec": {
   "display_name": "Python 3",
   "language": "python",
   "name": "python3"
  },
  "language_info": {
   "codemirror_mode": {
    "name": "ipython",
    "version": 3
   },
   "file_extension": ".py",
   "mimetype": "text/x-python",
   "name": "python",
   "nbconvert_exporter": "python",
   "pygments_lexer": "ipython3",
   "version": "3.7.3"
  }
 },
 "nbformat": 4,
 "nbformat_minor": 2
}
